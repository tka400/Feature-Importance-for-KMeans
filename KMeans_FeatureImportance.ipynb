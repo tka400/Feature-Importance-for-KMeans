{
 "cells": [
  {
   "cell_type": "markdown",
   "metadata": {},
   "source": [
    "Используя характеристики агрегатов ракетных двигателей определяем число кластеров двигателй методом KMeans и по дендрограмме.\n",
    "\n",
    "Далее пытаемся определить по каким же признакам (характеристикам) происходит разделение двигателей на кластеры.\n",
    "\n",
    "Данную задачу решаем применяя случайный поиск с адаптацией."
   ]
  },
  {
   "cell_type": "code",
   "execution_count": 1,
   "metadata": {},
   "outputs": [],
   "source": [
    "import numpy as np\n",
    "import matplotlib.pyplot as plt\n",
    "\n",
    "import pandas as pd\n",
    "from tqdm import tqdm\n",
    "import seaborn as sns\n",
    "\n",
    "from sklearn.cluster import KMeans\n",
    "from scipy.cluster.hierarchy import dendrogram, linkage\n",
    "from itertools import permutations"
   ]
  },
  {
   "cell_type": "markdown",
   "metadata": {},
   "source": [
    "Грузим данные. Они уже отмасштабированы с применением StandardScaler."
   ]
  },
  {
   "cell_type": "code",
   "execution_count": 2,
   "metadata": {},
   "outputs": [
    {
     "data": {
      "text/html": [
       "<div>\n",
       "<style scoped>\n",
       "    .dataframe tbody tr th:only-of-type {\n",
       "        vertical-align: middle;\n",
       "    }\n",
       "\n",
       "    .dataframe tbody tr th {\n",
       "        vertical-align: top;\n",
       "    }\n",
       "\n",
       "    .dataframe thead th {\n",
       "        text-align: right;\n",
       "    }\n",
       "</style>\n",
       "<table border=\"1\" class=\"dataframe\">\n",
       "  <thead>\n",
       "    <tr style=\"text-align: right;\">\n",
       "      <th></th>\n",
       "      <th>par_0</th>\n",
       "      <th>par_1</th>\n",
       "      <th>par_2</th>\n",
       "      <th>par_3</th>\n",
       "      <th>par_4</th>\n",
       "      <th>par_5</th>\n",
       "      <th>par_6</th>\n",
       "      <th>par_7</th>\n",
       "      <th>par_8</th>\n",
       "      <th>par_9</th>\n",
       "      <th>...</th>\n",
       "      <th>par_19</th>\n",
       "      <th>par_20</th>\n",
       "      <th>par_21</th>\n",
       "      <th>par_22</th>\n",
       "      <th>par_23</th>\n",
       "      <th>par_24</th>\n",
       "      <th>par_25</th>\n",
       "      <th>par_26</th>\n",
       "      <th>par_27</th>\n",
       "      <th>engine</th>\n",
       "    </tr>\n",
       "  </thead>\n",
       "  <tbody>\n",
       "    <tr>\n",
       "      <th>0</th>\n",
       "      <td>-0.908141</td>\n",
       "      <td>2.175354</td>\n",
       "      <td>-1.739956</td>\n",
       "      <td>-0.251525</td>\n",
       "      <td>-0.861437</td>\n",
       "      <td>-2.168935</td>\n",
       "      <td>-1.638348</td>\n",
       "      <td>-1.545711</td>\n",
       "      <td>0.709658</td>\n",
       "      <td>-0.286783</td>\n",
       "      <td>...</td>\n",
       "      <td>0.0</td>\n",
       "      <td>2.04939</td>\n",
       "      <td>1.472271</td>\n",
       "      <td>1.473069</td>\n",
       "      <td>-0.061522</td>\n",
       "      <td>1.314180</td>\n",
       "      <td>1.312584</td>\n",
       "      <td>-0.191962</td>\n",
       "      <td>0.461644</td>\n",
       "      <td>0</td>\n",
       "    </tr>\n",
       "    <tr>\n",
       "      <th>1</th>\n",
       "      <td>-0.554739</td>\n",
       "      <td>2.175354</td>\n",
       "      <td>-1.570918</td>\n",
       "      <td>0.951168</td>\n",
       "      <td>-0.178629</td>\n",
       "      <td>-2.168935</td>\n",
       "      <td>-1.252272</td>\n",
       "      <td>-0.048663</td>\n",
       "      <td>-0.196367</td>\n",
       "      <td>-1.080011</td>\n",
       "      <td>...</td>\n",
       "      <td>0.0</td>\n",
       "      <td>2.04939</td>\n",
       "      <td>-0.602474</td>\n",
       "      <td>-0.600443</td>\n",
       "      <td>-1.661106</td>\n",
       "      <td>-0.716648</td>\n",
       "      <td>-0.716882</td>\n",
       "      <td>-1.640969</td>\n",
       "      <td>0.461644</td>\n",
       "      <td>1</td>\n",
       "    </tr>\n",
       "    <tr>\n",
       "      <th>2</th>\n",
       "      <td>-0.598914</td>\n",
       "      <td>-1.151658</td>\n",
       "      <td>1.091435</td>\n",
       "      <td>1.402177</td>\n",
       "      <td>1.007433</td>\n",
       "      <td>1.337908</td>\n",
       "      <td>-1.852835</td>\n",
       "      <td>2.153350</td>\n",
       "      <td>1.698169</td>\n",
       "      <td>-0.286783</td>\n",
       "      <td>...</td>\n",
       "      <td>0.0</td>\n",
       "      <td>2.04939</td>\n",
       "      <td>-0.239394</td>\n",
       "      <td>-0.239429</td>\n",
       "      <td>-1.021273</td>\n",
       "      <td>-0.868960</td>\n",
       "      <td>-0.870904</td>\n",
       "      <td>-1.318968</td>\n",
       "      <td>2.308218</td>\n",
       "      <td>2</td>\n",
       "    </tr>\n",
       "    <tr>\n",
       "      <th>3</th>\n",
       "      <td>-0.068811</td>\n",
       "      <td>2.175354</td>\n",
       "      <td>-0.429910</td>\n",
       "      <td>0.399934</td>\n",
       "      <td>0.160246</td>\n",
       "      <td>-2.168935</td>\n",
       "      <td>0.463621</td>\n",
       "      <td>-1.291363</td>\n",
       "      <td>2.540333</td>\n",
       "      <td>-1.238657</td>\n",
       "      <td>...</td>\n",
       "      <td>0.0</td>\n",
       "      <td>2.04939</td>\n",
       "      <td>-0.083788</td>\n",
       "      <td>-0.082065</td>\n",
       "      <td>0.258394</td>\n",
       "      <td>-0.716648</td>\n",
       "      <td>-0.716882</td>\n",
       "      <td>-0.030962</td>\n",
       "      <td>2.308218</td>\n",
       "      <td>3</td>\n",
       "    </tr>\n",
       "    <tr>\n",
       "      <th>4</th>\n",
       "      <td>-0.687265</td>\n",
       "      <td>2.175354</td>\n",
       "      <td>0.922396</td>\n",
       "      <td>-0.702534</td>\n",
       "      <td>0.716608</td>\n",
       "      <td>-2.168935</td>\n",
       "      <td>0.377827</td>\n",
       "      <td>0.389937</td>\n",
       "      <td>0.519406</td>\n",
       "      <td>-1.555949</td>\n",
       "      <td>...</td>\n",
       "      <td>0.0</td>\n",
       "      <td>2.04939</td>\n",
       "      <td>-0.343131</td>\n",
       "      <td>-0.341254</td>\n",
       "      <td>0.578311</td>\n",
       "      <td>-0.970501</td>\n",
       "      <td>-0.970565</td>\n",
       "      <td>0.452041</td>\n",
       "      <td>2.308218</td>\n",
       "      <td>4</td>\n",
       "    </tr>\n",
       "  </tbody>\n",
       "</table>\n",
       "<p>5 rows × 29 columns</p>\n",
       "</div>"
      ],
      "text/plain": [
       "      par_0     par_1     par_2     par_3     par_4     par_5     par_6  \\\n",
       "0 -0.908141  2.175354 -1.739956 -0.251525 -0.861437 -2.168935 -1.638348   \n",
       "1 -0.554739  2.175354 -1.570918  0.951168 -0.178629 -2.168935 -1.252272   \n",
       "2 -0.598914 -1.151658  1.091435  1.402177  1.007433  1.337908 -1.852835   \n",
       "3 -0.068811  2.175354 -0.429910  0.399934  0.160246 -2.168935  0.463621   \n",
       "4 -0.687265  2.175354  0.922396 -0.702534  0.716608 -2.168935  0.377827   \n",
       "\n",
       "      par_7     par_8     par_9  ...  par_19   par_20    par_21    par_22  \\\n",
       "0 -1.545711  0.709658 -0.286783  ...     0.0  2.04939  1.472271  1.473069   \n",
       "1 -0.048663 -0.196367 -1.080011  ...     0.0  2.04939 -0.602474 -0.600443   \n",
       "2  2.153350  1.698169 -0.286783  ...     0.0  2.04939 -0.239394 -0.239429   \n",
       "3 -1.291363  2.540333 -1.238657  ...     0.0  2.04939 -0.083788 -0.082065   \n",
       "4  0.389937  0.519406 -1.555949  ...     0.0  2.04939 -0.343131 -0.341254   \n",
       "\n",
       "     par_23    par_24    par_25    par_26    par_27  engine  \n",
       "0 -0.061522  1.314180  1.312584 -0.191962  0.461644       0  \n",
       "1 -1.661106 -0.716648 -0.716882 -1.640969  0.461644       1  \n",
       "2 -1.021273 -0.868960 -0.870904 -1.318968  2.308218       2  \n",
       "3  0.258394 -0.716648 -0.716882 -0.030962  2.308218       3  \n",
       "4  0.578311 -0.970501 -0.970565  0.452041  2.308218       4  \n",
       "\n",
       "[5 rows x 29 columns]"
      ]
     },
     "execution_count": 2,
     "metadata": {},
     "output_type": "execute_result"
    }
   ],
   "source": [
    "df = pd.read_pickle(\"data.pkl\")\n",
    "df.head(5)"
   ]
  },
  {
   "cell_type": "code",
   "execution_count": 3,
   "metadata": {},
   "outputs": [
    {
     "name": "stdout",
     "output_type": "stream",
     "text": [
      "Нет пропусков:  True\n"
     ]
    }
   ],
   "source": [
    "print(\"Нет пропусков: \", all(df.isna().sum().values == 0))"
   ]
  },
  {
   "cell_type": "code",
   "execution_count": 4,
   "metadata": {},
   "outputs": [],
   "source": [
    "data = df.iloc[:, :-1].copy()\n",
    "engines = list(df[\"engine\"])"
   ]
  },
  {
   "cell_type": "code",
   "execution_count": 5,
   "metadata": {},
   "outputs": [
    {
     "name": "stdout",
     "output_type": "stream",
     "text": [
      "параметров: 28\n"
     ]
    }
   ],
   "source": [
    "print(\"параметров:\", data.shape[1])"
   ]
  },
  {
   "cell_type": "markdown",
   "metadata": {},
   "source": [
    "Агломеративная кластеризация"
   ]
  },
  {
   "cell_type": "code",
   "execution_count": 43,
   "metadata": {
    "scrolled": true
   },
   "outputs": [
    {
     "data": {
      "image/png": "[encoded data removed]",
      "text/plain": [
       "<Figure size 1080x216 with 1 Axes>"
      ]
     },
     "metadata": {
      "needs_background": "light"
     },
     "output_type": "display_data"
    }
   ],
   "source": [
    "plt.figure(figsize=(15, 3))\n",
    "link = linkage(data, 'ward', 'euclidean')\n",
    "dn = dendrogram(link, labels=engines)\n",
    "plt.xticks(fontsize=12)\n",
    "plt.yticks(fontsize=12)\n",
    "plt.xlabel(\"двигатель\")\n",
    "plt.ylabel(\"расстояние\")\n",
    "plt.savefig(\"dendrogram1.png\", transparent=False, bbox_inches=\"tight\")\n",
    "plt.show()"
   ]
  },
  {
   "cell_type": "markdown",
   "metadata": {},
   "source": [
    "Видим три кластера.\n",
    "\n",
    "KMeans"
   ]
  },
  {
   "cell_type": "code",
   "execution_count": 7,
   "metadata": {},
   "outputs": [],
   "source": [
    "K = range(1, 11)\n",
    "models = [KMeans(n_clusters=k, random_state=42).fit(data) for k in K]\n",
    "dist = [model.inertia_ for model in models]"
   ]
  },
  {
   "cell_type": "code",
   "execution_count": 8,
   "metadata": {},
   "outputs": [
    {
     "data": {
      "image/png": "[encoded data removed]",
      "text/plain": [
       "<Figure size 288x216 with 1 Axes>"
      ]
     },
     "metadata": {
      "needs_background": "light"
     },
     "output_type": "display_data"
    }
   ],
   "source": [
    "plt.figure(figsize=(4, 3))\n",
    "plt.plot(K, dist, marker='o')\n",
    "plt.xlabel('число кластеров')\n",
    "plt.ylabel('максимальная дистанция')\n",
    "plt.savefig(\"elbow.png\", transparent=False, bbox_inches=\"tight\")\n",
    "plt.show()"
   ]
  },
  {
   "cell_type": "markdown",
   "metadata": {},
   "source": [
    "По диаграмме локтя тоже три кластера. "
   ]
  },
  {
   "cell_type": "code",
   "execution_count": 9,
   "metadata": {},
   "outputs": [
    {
     "data": {
      "text/plain": [
       "KMeans(n_clusters=3)"
      ]
     },
     "execution_count": 9,
     "metadata": {},
     "output_type": "execute_result"
    }
   ],
   "source": [
    "kmeans = KMeans(n_clusters=3)\n",
    "kmeans.fit(data)"
   ]
  },
  {
   "cell_type": "markdown",
   "metadata": {},
   "source": [
    "Распределение двигателей по кластерам"
   ]
  },
  {
   "cell_type": "code",
   "execution_count": 10,
   "metadata": {
    "scrolled": true
   },
   "outputs": [
    {
     "data": {
      "text/plain": [
       "[[0, 1, 3, 4, 5, 6, 7, 8, 9],\n",
       " [2, 10, 13, 20, 23, 24, 25, 26, 27, 28, 29, 30, 31, 42, 43, 44, 46, 48],\n",
       " [11,\n",
       "  12,\n",
       "  14,\n",
       "  15,\n",
       "  16,\n",
       "  17,\n",
       "  18,\n",
       "  19,\n",
       "  21,\n",
       "  22,\n",
       "  32,\n",
       "  33,\n",
       "  34,\n",
       "  35,\n",
       "  36,\n",
       "  37,\n",
       "  38,\n",
       "  39,\n",
       "  40,\n",
       "  41,\n",
       "  45,\n",
       "  47,\n",
       "  49,\n",
       "  50,\n",
       "  51]]"
      ]
     },
     "execution_count": 10,
     "metadata": {},
     "output_type": "execute_result"
    }
   ],
   "source": [
    "initial_clusters = []\n",
    "\n",
    "for i in range(kmeans.n_clusters):\n",
    "    temp = []\n",
    "    for j in range(len(kmeans.labels_)):\n",
    "        if kmeans.labels_[j] == i:\n",
    "            temp.append(engines[j])\n",
    "    initial_clusters.append(temp)\n",
    "    \n",
    "initial_clusters"
   ]
  },
  {
   "cell_type": "markdown",
   "metadata": {},
   "source": [
    "Какие же признаки сыграли наибольшую роль?\n",
    "\n",
    "Ответ на это вопрос найдем применяя случайный поиск с адаптацией.\n",
    "\n",
    "Алгоритм прост.\n",
    "\n",
    "Случайно выбираем признаки. Делаем кластеризацию. Сравниваем распределения двигателей по кластерам с распределением, полученным на всех признаках. Вычисляем фитнес функцию (критерий качества) как: (число совпадений) / (число двигателей в кластере). См. функцию similarity в конце кода.\n",
    "\n",
    "Если фитнес функция возросла, увеличиваем вероятноть выбора данным признакам. Если значение фитнес функции снизилось, то вероятность выбора уменьшаем. Делаем так заданное число раз.\n",
    "\n",
    "Наиболее важные признаки будут иметь наибольшую вероятность выбора (вес), что мы и увидим на рисунке."
   ]
  },
  {
   "cell_type": "code",
   "execution_count": 15,
   "metadata": {
    "code_folding": [
     0
    ]
   },
   "outputs": [],
   "source": [
    "class RSwA:\n",
    "    def __init__(self, X, model, engines, initial_clusters, iterations=100):\n",
    "        self.X = X\n",
    "        self.model = model\n",
    "        self.iterations = iterations\n",
    "        self.manipulations = [1]\n",
    "        self.engines = engines\n",
    "        self.initial_clusters = initial_clusters\n",
    "        self.genes     = np.ones((len(self.manipulations), X.shape[1]))\n",
    "        self.weights   = np.ones((len(self.manipulations), X.shape[1]))\n",
    "        self.d_weights = pd.DataFrame(columns=[str(i) for i in range(len(self.manipulations) * X.shape[1])])\n",
    "        \n",
    "        self.all_scores = []\n",
    "        self.score = 0\n",
    "    \n",
    "    def set_genes(self):\n",
    "        b = np.array([int(i) for i in self.manipulations]).reshape(len(self.manipulations), 1)  \n",
    "        self.weights = self.weights * b\n",
    "        a = self.weights.ravel().copy()\n",
    "        shoots = self.weights.shape[1]\n",
    "\n",
    "        for i in range(1, len(a), 1):\n",
    "            a[i] = a[i] + a[i-1]\n",
    "\n",
    "        for i in range(0, len(a), 1):\n",
    "            a[i] = a[i] / a.max()\n",
    "\n",
    "        indexes = set()\n",
    "            \n",
    "        for i in range(shoots):    \n",
    "            shoot = np.random.random()\n",
    "\n",
    "            k = 0\n",
    "            while  k < len(a) and a[k] < shoot:\n",
    "                k += 1\n",
    "\n",
    "            indexes.add(k)\n",
    "        \n",
    "        shape = self.weights.shape\n",
    "        genes = [0] * shape[0] * shape[1]\n",
    "\n",
    "        for i in range(len(genes)):\n",
    "            if i in indexes:\n",
    "                genes[i] = 1\n",
    "\n",
    "        self.genes = np.reshape(genes, shape)\n",
    "\n",
    "    def add_feature(self):\n",
    "        # формирование признаков по заданным в хромосоме манипуляциям\n",
    "        X_new = []\n",
    "        for i in range(self.X.shape[1]): \n",
    "            if self.genes[0, i]: X_new.append(self.X[:, i])\n",
    "\n",
    "        X_new = np.array(X_new).T\n",
    "        return X_new\n",
    "\n",
    "    def fitness_func(self):  \n",
    "        # расчет качества модели по скользящему контролю\n",
    "        X_new = self.add_feature()\n",
    "\n",
    "        size = len(self.engines)\n",
    "        model.fit(X_new)\n",
    "        clusters = []\n",
    "\n",
    "        for i in range(model.n_clusters):\n",
    "            temp = []\n",
    "            for j in range(size):\n",
    "                if model.labels_[j] == i:\n",
    "                    temp.append(self.engines[j])\n",
    "            clusters.append(temp)\n",
    "            \n",
    "        a = np.zeros((model.n_clusters, model.n_clusters))\n",
    "\n",
    "        for i in range(model.n_clusters):\n",
    "            for j in range(model.n_clusters):\n",
    "                a[i][j] = self.similarity(clusters[i], self.initial_clusters[j])    \n",
    "            \n",
    "        score = 0\n",
    "\n",
    "        for i in permutations([k for k in range(model.n_clusters)]):\n",
    "            score = max(sum(a[i[j]][j] for j in range(model.n_clusters)), score)\n",
    "        \n",
    "        self.all_scores.append(score)\n",
    "\n",
    "        if score > self.score:\n",
    "            self.score = score\n",
    "\n",
    "        return (score)\n",
    "\n",
    "    def similarity(self, a, b):\n",
    "        return len(list(set(a) & set(b))) / max(len(a), len(b))\n",
    "\n",
    "    def change_weights(self, adapt):\n",
    "        a = self.weights.ravel().copy()\n",
    "        g = self.genes.ravel().copy()\n",
    "\n",
    "        for i in range(len(a)):\n",
    "            if g[i]:\n",
    "                a[i] = a[i] * adapt\n",
    "        \n",
    "        self.weights = np.reshape(a, self.weights.shape)\n",
    "        \n",
    "        temporary = pd.DataFrame([a], columns=self.d_weights.columns)\n",
    "        self.d_weights = self.d_weights.append(temporary, ignore_index=True)\n",
    "        \n",
    "    def go_search(self):\n",
    "        for index, i in enumerate(self.manipulations):\n",
    "            if i and self.weights[index, :].sum() == 0.0:\n",
    "                self.weights[index, :] = 1\n",
    "        \n",
    "        self.set_genes()\n",
    "        self.add_feature()\n",
    "        self.fitness_func()\n",
    "        \n",
    "        if len(self.all_scores) == 1:\n",
    "            return \n",
    "        \n",
    "        if self.all_scores[-1] > self.all_scores[-2] * 1.01:\n",
    "            self.change_weights(1.1)    \n",
    "        elif self.all_scores[-1] < self.all_scores[-2] * 0.99:\n",
    "            self.change_weights(0.9) "
   ]
  },
  {
   "cell_type": "code",
   "execution_count": 16,
   "metadata": {
    "code_folding": [
     0
    ]
   },
   "outputs": [],
   "source": [
    "def plot_results(model, vmin=0, vmax=1, initial_score=0):\n",
    "    fig, axes = plt.subplots(nrows=1, ncols=2, figsize=(12, 3)) \n",
    "\n",
    "    axes[0].plot(np.log(model.d_weights))\n",
    "    axes[0].set_ylabel('log(веса)')\n",
    "    axes[0].set_xlabel('итерации')    \n",
    "    \n",
    "    axes[1].plot(model.all_scores, label=\"выбранные признаки\")\n",
    "    axes[1].set_ylabel(\"схожесть кластеров\")\n",
    "    axes[1].plot([0, len(model.all_scores) - 1], [initial_score, initial_score], c=\"r\", label=\"все признаки\")\n",
    "    axes[1].set_xlabel('итерации')\n",
    "    axes[1].set_ylim(vmin, vmax)\n",
    "\n",
    "    plt.legend(loc='lower right')\n",
    "    plt.savefig(\"results.png\", transparent=False, bbox_inches=\"tight\")\n",
    "    plt.show()"
   ]
  },
  {
   "cell_type": "code",
   "execution_count": 17,
   "metadata": {
    "code_folding": [
     0
    ]
   },
   "outputs": [],
   "source": [
    "def plot_importance(model, cmap, features):\n",
    "    plt.figure(figsize=(15, 2))\n",
    "    plt.pcolormesh(model.weights, cmap=cmap)\n",
    "    plt.xticks(np.arange(model.weights.shape[1]) + 0.5, features, rotation=90)\n",
    "    plt.yticks([])\n",
    "    plt.xlabel(\"признаки\")\n",
    "    plt.title(\"веса признаков\")\n",
    "    \n",
    "    for i in range(model.weights.shape[1]):\n",
    "        for j in range(model.weights.shape[0]):\n",
    "            plt.text(i + 0.5, j + 0.5, round(model.weights[j , i], 2), \n",
    "                     ha='center', va='center', color=\"orange\")\n",
    "    plt.savefig(\"importance.png\", transparent=False, bbox_inches=\"tight\")\n",
    "    plt.show()"
   ]
  },
  {
   "cell_type": "markdown",
   "metadata": {},
   "source": [
    "Поехали!"
   ]
  },
  {
   "cell_type": "code",
   "execution_count": 18,
   "metadata": {},
   "outputs": [
    {
     "name": "stderr",
     "output_type": "stream",
     "text": [
      "100%|████████████████████████████████████████████████████████████████████████████| 20000/20000 [10:12<00:00, 32.63it/s]"
     ]
    },
    {
     "name": "stdout",
     "output_type": "stream",
     "text": [
      "*** DONE ***\n"
     ]
    },
    {
     "name": "stderr",
     "output_type": "stream",
     "text": [
      "\n"
     ]
    }
   ],
   "source": [
    "model = KMeans(n_clusters=3)\n",
    "\n",
    "rs = RSwA(X=np.array(data),\n",
    "          model=model,\n",
    "          engines=engines,\n",
    "          initial_clusters=initial_clusters,\n",
    "          iterations=20000)\n",
    "\n",
    "for i in tqdm(range(rs.iterations)):\n",
    "    rs.go_search()\n",
    "    \n",
    "print(\"*** DONE ***\")"
   ]
  },
  {
   "cell_type": "markdown",
   "metadata": {},
   "source": [
    "Веса признаков по итерациям. Те веса что идут вверх - относятся к наиболее важным признакам."
   ]
  },
  {
   "cell_type": "code",
   "execution_count": 19,
   "metadata": {},
   "outputs": [
    {
     "data": {
      "image/png": "[encoded data removed]",
      "text/plain": [
       "<Figure size 864x216 with 2 Axes>"
      ]
     },
     "metadata": {
      "needs_background": "light"
     },
     "output_type": "display_data"
    }
   ],
   "source": [
    "initial_score = model.n_clusters\n",
    "\n",
    "plot_results(model=rs, vmin=0.0, vmax=3.5, initial_score=initial_score)"
   ]
  },
  {
   "cell_type": "code",
   "execution_count": 20,
   "metadata": {},
   "outputs": [
    {
     "data": {
      "image/png": "[encoded data removed]",
      "text/plain": [
       "<Figure size 1080x144 with 1 Axes>"
      ]
     },
     "metadata": {
      "needs_background": "light"
     },
     "output_type": "display_data"
    }
   ],
   "source": [
    "plot_importance(model=rs, cmap='Blues', features=list(data.columns))"
   ]
  },
  {
   "cell_type": "markdown",
   "metadata": {},
   "source": [
    "Отфильтруем признаки по весам."
   ]
  },
  {
   "cell_type": "code",
   "execution_count": 35,
   "metadata": {},
   "outputs": [
    {
     "data": {
      "text/plain": [
       "array([24.6183354 , 35.30270221, 42.73062568, 40.45309187, 36.00738877,\n",
       "       36.96701676, 34.45567534, 31.77243199, 69.46653208])"
      ]
     },
     "execution_count": 35,
     "metadata": {},
     "output_type": "execute_result"
    }
   ],
   "source": [
    "indexes = np.where(rs.weights[0] > 20)\n",
    "rs.weights[0][indexes]"
   ]
  },
  {
   "cell_type": "markdown",
   "metadata": {},
   "source": [
    "Итак. Наиболее важные признаки, делящие наши двигатели на три клатсера. Но, если запустить поиск повторно, некоторые признаки могут быть заменены другими. Возможно это связано с тем, что они коррелируют между собой."
   ]
  },
  {
   "cell_type": "code",
   "execution_count": 36,
   "metadata": {},
   "outputs": [
    {
     "data": {
      "text/plain": [
       "array(['par_1', 'par_3', 'par_5', 'par_13', 'par_14', 'par_18', 'par_22',\n",
       "       'par_24', 'par_26'], dtype=object)"
      ]
     },
     "execution_count": 36,
     "metadata": {},
     "output_type": "execute_result"
    }
   ],
   "source": [
    "most_imp = np.array(data.columns)[indexes]\n",
    "most_imp"
   ]
  },
  {
   "cell_type": "markdown",
   "metadata": {},
   "source": [
    "Проверим, выбрав лишь наиболее важные признаки."
   ]
  },
  {
   "cell_type": "code",
   "execution_count": 37,
   "metadata": {},
   "outputs": [
    {
     "data": {
      "text/plain": [
       "KMeans(n_clusters=3)"
      ]
     },
     "execution_count": 37,
     "metadata": {},
     "output_type": "execute_result"
    }
   ],
   "source": [
    "kmeans = KMeans(n_clusters=3)\n",
    "kmeans.fit(data[most_imp])"
   ]
  },
  {
   "cell_type": "code",
   "execution_count": 38,
   "metadata": {},
   "outputs": [],
   "source": [
    "new_clusters = []\n",
    "\n",
    "for i in range(kmeans.n_clusters):\n",
    "    temp = []\n",
    "    for j in range(len(kmeans.labels_)):\n",
    "        if kmeans.labels_[j] == i:\n",
    "            temp.append(engines[j])\n",
    "    new_clusters.append(temp)"
   ]
  },
  {
   "cell_type": "code",
   "execution_count": 39,
   "metadata": {},
   "outputs": [],
   "source": [
    "def similarity(a, b):\n",
    "    return len(list(set(a) & set(b))) / max(len(a), len(b))"
   ]
  },
  {
   "cell_type": "markdown",
   "metadata": {},
   "source": [
    "Схожесть кластеров в сумме должна быть равна числу кластеров. Суммируемые значения должны отличаться индексами."
   ]
  },
  {
   "cell_type": "code",
   "execution_count": 40,
   "metadata": {},
   "outputs": [
    {
     "data": {
      "text/plain": [
       "array([[0., 1., 0.],\n",
       "       [1., 0., 0.],\n",
       "       [0., 0., 1.]])"
      ]
     },
     "execution_count": 40,
     "metadata": {},
     "output_type": "execute_result"
    }
   ],
   "source": [
    "a = np.zeros((len(new_clusters), len(new_clusters)))\n",
    "\n",
    "for i in range(len(a)):\n",
    "    for j in range(len(a)):\n",
    "        a[i][j] = similarity(new_clusters[i], initial_clusters[j])\n",
    "\n",
    "a"
   ]
  },
  {
   "cell_type": "code",
   "execution_count": 41,
   "metadata": {},
   "outputs": [
    {
     "name": "stdout",
     "output_type": "stream",
     "text": [
      "было признаков:   27\n",
      "стало признаков:  9\n"
     ]
    }
   ],
   "source": [
    "print(\"было признаков:  \", len(data.columns[:-1]))\n",
    "print(\"стало признаков: \", len(most_imp))"
   ]
  },
  {
   "cell_type": "markdown",
   "metadata": {},
   "source": [
    "Конец"
   ]
  }
 ],
 "metadata": {
  "kernelspec": {
   "display_name": "Python 3",
   "language": "python",
   "name": "python3"
  },
  "language_info": {
   "codemirror_mode": {
    "name": "ipython",
    "version": 3
   },
   "file_extension": ".py",
   "mimetype": "text/x-python",
   "name": "python",
   "nbconvert_exporter": "python",
   "pygments_lexer": "ipython3",
   "version": "3.8.3"
  },
  "toc": {
   "base_numbering": 1,
   "nav_menu": {},
   "number_sections": true,
   "sideBar": true,
   "skip_h1_title": false,
   "title_cell": "Table of Contents",
   "title_sidebar": "Contents",
   "toc_cell": false,
   "toc_position": {},
   "toc_section_display": true,
   "toc_window_display": false
  },
  "varInspector": {
   "cols": {
    "lenName": 16,
    "lenType": 16,
    "lenVar": 40
   },
   "kernels_config": {
    "python": {
     "delete_cmd_postfix": "",
     "delete_cmd_prefix": "del ",
     "library": "var_list.py",
     "varRefreshCmd": "print(var_dic_list())"
    },
    "r": {
     "delete_cmd_postfix": ") ",
     "delete_cmd_prefix": "rm(",
     "library": "var_list.r",
     "varRefreshCmd": "cat(var_dic_list()) "
    }
   },
   "types_to_exclude": [
    "module",
    "function",
    "builtin_function_or_method",
    "instance",
    "_Feature"
   ],
   "window_display": false
  }
 },
 "nbformat": 4,
 "nbformat_minor": 4
}
